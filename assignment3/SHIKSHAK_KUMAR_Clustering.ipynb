{
 "cells": [
  {
   "cell_type": "code",
   "execution_count": null,
   "id": "cade1bd7",
   "metadata": {
    "lines_to_next_cell": 1
   },
   "outputs": [],
   "source": [
    "import pandas as pd\n",
    "import numpy as np\n",
    "from sklearn.preprocessing import StandardScaler, LabelEncoder\n",
    "from sklearn.cluster import KMeans\n",
    "from sklearn.metrics import davies_bouldin_score, silhouette_score\n",
    "import matplotlib.pyplot as plt\n",
    "import seaborn as sns\n",
    "from sklearn.decomposition import PCA\n",
    "import requests\n",
    "import io\n",
    "from datetime import datetime"
   ]
  },
  {
   "cell_type": "code",
   "execution_count": null,
   "id": "7b69a915",
   "metadata": {
    "lines_to_next_cell": 1
   },
   "outputs": [],
   "source": [
    "def download_file_from_google_drive(url):\n",
    "    file_id = url.split('/d/')[-1].split('/view')[0]\n",
    "    \n",
    "    download_url = f\"https://drive.google.com/uc?id={file_id}\"\n",
    "    \n",
    "    response = requests.get(download_url)\n",
    "    return pd.read_csv(io.StringIO(response.content.decode('utf-8')))"
   ]
  },
  {
   "cell_type": "code",
   "execution_count": null,
   "id": "7c06b90c",
   "metadata": {},
   "outputs": [],
   "source": [
    "print(\"Downloading datasets...\")\n",
    "customers_url = \"https://drive.google.com/file/d/1bu_--mo79VdUG9oin4ybfFGRUSXAe-WE/view?usp=sharing\"\n",
    "products_url = \"https://drive.google.com/file/d/1IKuDizVapw-hyktwfpoAoaGtHtTNHfd0/view?usp=sharing\"\n",
    "transactions_url = \"https://drive.google.com/file/d/1saEqdbBB-vuk2hxoAf4TzDEsykdKlzbF/view?usp=sharing\""
   ]
  },
  {
   "cell_type": "code",
   "execution_count": null,
   "id": "6a94c04b",
   "metadata": {},
   "outputs": [],
   "source": [
    "try:\n",
    "    customers_df = download_file_from_google_drive(customers_url)\n",
    "    products_df = download_file_from_google_drive(products_url)\n",
    "    transactions_df = download_file_from_google_drive(transactions_url)\n",
    "    print(\"Successfully downloaded all datasets!\")\n",
    "except Exception as e:\n",
    "    print(f\"Error downloading datasets: {str(e)}\")\n",
    "    exit(1)"
   ]
  },
  {
   "cell_type": "code",
   "execution_count": null,
   "id": "8c9046bc",
   "metadata": {},
   "outputs": [],
   "source": [
    "print(\"\\nCustomers DataFrame columns:\", customers_df.columns.tolist())\n",
    "print(\"\\nTransactions DataFrame columns:\", transactions_df.columns.tolist())"
   ]
  },
  {
   "cell_type": "code",
   "execution_count": null,
   "id": "b6320316",
   "metadata": {},
   "outputs": [],
   "source": [
    "print(\"\\nPreprocessing customer data...\")\n",
    "customers_df['SignupDate'] = pd.to_datetime(customers_df['SignupDate'])\n",
    "customers_df['CustomerAge'] = (pd.Timestamp.now() - customers_df['SignupDate']).dt.days"
   ]
  },
  {
   "cell_type": "code",
   "execution_count": null,
   "id": "f9935203",
   "metadata": {},
   "outputs": [],
   "source": [
    "le = LabelEncoder()\n",
    "customers_df['RegionEncoded'] = le.fit_transform(customers_df['Region'])"
   ]
  },
  {
   "cell_type": "code",
   "execution_count": null,
   "id": "d618eb32",
   "metadata": {},
   "outputs": [],
   "source": [
    "print(\"\\nProcessing transaction data...\")\n",
    "transactions_df['TransactionDate'] = pd.to_datetime(transactions_df['TransactionDate'])\n",
    "latest_date = transactions_df['TransactionDate'].max()"
   ]
  },
  {
   "cell_type": "code",
   "execution_count": null,
   "id": "5ddaedb9",
   "metadata": {},
   "outputs": [],
   "source": [
    "rfm = transactions_df.groupby('CustomerID').agg({\n",
    "    'TransactionDate': lambda x: (latest_date - x.max()).days,\n",
    "    'TransactionID': 'count',\n",
    "    'TotalValue': 'sum'\n",
    "}).rename(columns={\n",
    "    'TransactionDate': 'Recency',\n",
    "    'TransactionID': 'Frequency',\n",
    "    'TotalValue': 'Monetary'\n",
    "})"
   ]
  },
  {
   "cell_type": "code",
   "execution_count": null,
   "id": "1c16f89f",
   "metadata": {},
   "outputs": [],
   "source": [
    "transaction_features = transactions_df.groupby('CustomerID').agg({\n",
    "    'ProductID': 'nunique',\n",
    "    'Quantity': ['sum', 'mean'],\n",
    "    'Price': ['mean', 'std']\n",
    "}).reset_index()"
   ]
  },
  {
   "cell_type": "code",
   "execution_count": null,
   "id": "0750d950",
   "metadata": {},
   "outputs": [],
   "source": [
    "transaction_features.columns = ['CustomerID', 'unique_products', \n",
    "                              'total_quantity', 'avg_quantity',\n",
    "                              'avg_price', 'price_std']"
   ]
  },
  {
   "cell_type": "code",
   "execution_count": null,
   "id": "7ccfcb6a",
   "metadata": {},
   "outputs": [],
   "source": [
    "df = customers_df.merge(rfm.reset_index(), on='CustomerID', how='left')\n",
    "df = df.merge(transaction_features, on='CustomerID', how='left')"
   ]
  },
  {
   "cell_type": "code",
   "execution_count": null,
   "id": "35cc5a0a",
   "metadata": {},
   "outputs": [],
   "source": [
    "df = df.fillna(0)"
   ]
  },
  {
   "cell_type": "code",
   "execution_count": null,
   "id": "d6c7da52",
   "metadata": {},
   "outputs": [],
   "source": [
    "features = ['CustomerAge', 'RegionEncoded', 'Recency', 'Frequency', 'Monetary',\n",
    "           'unique_products', 'total_quantity', 'avg_quantity', 'avg_price', 'price_std']"
   ]
  },
  {
   "cell_type": "code",
   "execution_count": null,
   "id": "1d10c3bd",
   "metadata": {},
   "outputs": [],
   "source": [
    "print(\"\\nSelected features for clustering:\", features)"
   ]
  },
  {
   "cell_type": "code",
   "execution_count": null,
   "id": "4e72d072",
   "metadata": {},
   "outputs": [],
   "source": [
    "print(\"\\nScaling features...\")\n",
    "scaler = StandardScaler()\n",
    "X_scaled = scaler.fit_transform(df[features])"
   ]
  },
  {
   "cell_type": "code",
   "execution_count": null,
   "id": "3e298c28",
   "metadata": {},
   "outputs": [],
   "source": [
    "print(\"\\nFinding optimal number of clusters...\")\n",
    "db_scores = []\n",
    "silhouette_scores = []\n",
    "k_range = range(2, 11)"
   ]
  },
  {
   "cell_type": "code",
   "execution_count": null,
   "id": "5270a275",
   "metadata": {},
   "outputs": [],
   "source": [
    "for k in k_range:\n",
    "    print(f\"Testing k={k}...\")\n",
    "    kmeans = KMeans(n_clusters=k, random_state=42)\n",
    "    clusters = kmeans.fit_predict(X_scaled)\n",
    "    \n",
    "    db_score = davies_bouldin_score(X_scaled, clusters)\n",
    "    silhouette_avg = silhouette_score(X_scaled, clusters)\n",
    "    \n",
    "    db_scores.append(db_score)\n",
    "    silhouette_scores.append(silhouette_avg)\n",
    "    print(f\"Davies-Bouldin Index: {db_score:.4f}\")\n",
    "    print(f\"Silhouette Score: {silhouette_avg:.4f}\")"
   ]
  },
  {
   "cell_type": "code",
   "execution_count": null,
   "id": "5f603095",
   "metadata": {},
   "outputs": [],
   "source": [
    "optimal_k = k_range[np.argmin(db_scores)]\n",
    "print(f\"\\nOptimal number of clusters based on Davies-Bouldin Index: {optimal_k}\")"
   ]
  },
  {
   "cell_type": "code",
   "execution_count": null,
   "id": "efc30b3f",
   "metadata": {},
   "outputs": [],
   "source": [
    "print(\"Performing final clustering...\")\n",
    "kmeans = KMeans(n_clusters=optimal_k, random_state=42)\n",
    "df['Cluster'] = kmeans.fit_predict(X_scaled)"
   ]
  },
  {
   "cell_type": "code",
   "execution_count": null,
   "id": "586fe95f",
   "metadata": {},
   "outputs": [],
   "source": [
    "final_db_score = davies_bouldin_score(X_scaled, df['Cluster'])\n",
    "final_silhouette_score = silhouette_score(X_scaled, df['Cluster'])\n",
    "print(f\"Final Davies-Bouldin Index: {final_db_score:.4f}\")\n",
    "print(f\"Final Silhouette Score: {final_silhouette_score:.4f}\")"
   ]
  },
  {
   "cell_type": "code",
   "execution_count": null,
   "id": "357e0735",
   "metadata": {},
   "outputs": [],
   "source": [
    "print(\"\\nCreating visualizations...\")\n",
    "plt.figure(figsize=(10, 6))\n",
    "plt.plot(k_range, db_scores, 'bo-', label='Davies-Bouldin Index')\n",
    "plt.plot(k_range, silhouette_scores, 'ro-', label='Silhouette Score')\n",
    "plt.xlabel('Number of Clusters (k)')\n",
    "plt.ylabel('Score')\n",
    "plt.title('Clustering Metrics vs Number of Clusters')\n",
    "plt.legend()\n",
    "plt.grid(True)\n",
    "plt.savefig('clustering_metrics.png')\n",
    "plt.close()"
   ]
  },
  {
   "cell_type": "code",
   "execution_count": null,
   "id": "7f6bb25f",
   "metadata": {},
   "outputs": [],
   "source": [
    "pca = PCA(n_components=2)\n",
    "X_pca = pca.fit_transform(X_scaled)"
   ]
  },
  {
   "cell_type": "code",
   "execution_count": null,
   "id": "2400d66f",
   "metadata": {},
   "outputs": [],
   "source": [
    "plt.figure(figsize=(12, 8))\n",
    "scatter = plt.scatter(X_pca[:, 0], X_pca[:, 1], c=df['Cluster'], cmap='viridis')\n",
    "plt.xlabel('First Principal Component')\n",
    "plt.ylabel('Second Principal Component')\n",
    "plt.title('Customer Segments Visualization (PCA)')\n",
    "plt.colorbar(scatter, label='Cluster')\n",
    "plt.savefig('cluster_visualization_pca.png')\n",
    "plt.close()"
   ]
  },
  {
   "cell_type": "code",
   "execution_count": null,
   "id": "dc8d1b47",
   "metadata": {},
   "outputs": [],
   "source": [
    "feature_importance = np.abs(pca.components_)\n",
    "feature_importance = feature_importance / feature_importance.sum(axis=1)[:, np.newaxis]"
   ]
  },
  {
   "cell_type": "code",
   "execution_count": null,
   "id": "b0f8b346",
   "metadata": {},
   "outputs": [],
   "source": [
    "plt.figure(figsize=(12, 6))\n",
    "sns.heatmap(feature_importance, annot=True, fmt='.2f', \n",
    "            xticklabels=features, yticklabels=['PC1', 'PC2'])\n",
    "plt.title('Feature Importance in Principal Components')\n",
    "plt.tight_layout()\n",
    "plt.savefig('feature_importance.png')\n",
    "plt.close()"
   ]
  },
  {
   "cell_type": "code",
   "execution_count": null,
   "id": "de48b604",
   "metadata": {},
   "outputs": [],
   "source": [
    "cluster_profiles = df.groupby('Cluster')[features].mean()\n",
    "print(\"\\nCluster Profiles:\")\n",
    "print(cluster_profiles)"
   ]
  },
  {
   "cell_type": "code",
   "execution_count": null,
   "id": "ef5f61b0",
   "metadata": {},
   "outputs": [],
   "source": [
    "cluster_profiles.to_csv('cluster_profiles.csv')"
   ]
  },
  {
   "cell_type": "code",
   "execution_count": null,
   "id": "fbf38995",
   "metadata": {},
   "outputs": [],
   "source": [
    "cluster_profiles_normalized = (cluster_profiles - cluster_profiles.min()) / (cluster_profiles.max() - cluster_profiles.min())"
   ]
  },
  {
   "cell_type": "code",
   "execution_count": null,
   "id": "00c54104",
   "metadata": {},
   "outputs": [],
   "source": [
    "fig = plt.figure(figsize=(20, 15))\n",
    "angles = np.linspace(0, 2*np.pi, len(features), endpoint=False)"
   ]
  },
  {
   "cell_type": "code",
   "execution_count": null,
   "id": "413acd20",
   "metadata": {},
   "outputs": [],
   "source": [
    "for i in range(optimal_k):\n",
    "    values = cluster_profiles_normalized.iloc[i].values\n",
    "    values = np.concatenate((values, [values[0]]))\n",
    "    angles_plot = np.concatenate((angles, [angles[0]]))\n",
    "    \n",
    "    ax = fig.add_subplot(2, (optimal_k+1)//2, i+1, projection='polar')\n",
    "    ax.plot(angles_plot, values)\n",
    "    ax.fill(angles_plot, values, alpha=0.25)\n",
    "    ax.set_xticks(angles)\n",
    "    ax.set_xticklabels(features, size=8)\n",
    "    ax.set_title(f'Cluster {i} Profile')"
   ]
  },
  {
   "cell_type": "code",
   "execution_count": null,
   "id": "aa9b958f",
   "metadata": {},
   "outputs": [],
   "source": [
    "plt.tight_layout()\n",
    "plt.savefig('cluster_profiles_radar.png')\n",
    "plt.close()"
   ]
  },
  {
   "cell_type": "code",
   "execution_count": null,
   "id": "eca771b4",
   "metadata": {},
   "outputs": [],
   "source": [
    "print(\"\\nAnalysis complete! Check the generated CSV files and visualizations for results.\")"
   ]
  }
 ],
 "metadata": {
  "jupytext": {
   "cell_metadata_filter": "-all",
   "main_language": "python",
   "notebook_metadata_filter": "-all"
  }
 },
 "nbformat": 4,
 "nbformat_minor": 5
}
