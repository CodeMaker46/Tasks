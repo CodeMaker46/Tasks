{
 "cells": [
  {
   "cell_type": "markdown",
   "metadata": {},
   "source": [
    "# Customer Lookalike Model Development\n",
    "\n",
    "This notebook explains the development of a customer lookalike model that recommends similar customers based on their profiles and transaction history."
   ]
  },
  {
   "cell_type": "markdown",
   "metadata": {},
   "source": [
    "## 1. Data Loading and Preprocessing\n",
    "\n",
    "The model uses three main data sources:\n",
    "1. `customers.csv`: Customer profile information\n",
    "2. `products.csv`: Product catalog information\n",
    "3. `transactions.csv`: Customer transaction history\n",
    "\n",
    "Let's examine the structure of each dataset:"
   ]
  },
  {
   "cell_type": "code",
   "execution_count": null,
   "metadata": {},
   "source": [
    "import pandas as pd\n",
    "import numpy as np\n",
    "from sklearn.preprocessing import StandardScaler\n",
    "from sklearn.metrics.pairwise import cosine_similarity\n",
    "\n",
    "# Load datasets\n",
    "customers_df = pd.read_csv('customers.csv')\n",
    "products_df = pd.read_csv('products.csv')\n",
    "transactions_df = pd.read_csv('transactions.csv')\n",
    "\n",
    "print(\"Customers Dataset:\")\n",
    "print(customers_df.head())\n",
    "print(\"\\nProducts Dataset:\")\n",
    "print(products_df.head())\n",
    "print(\"\\nTransactions Dataset:\")\n",
    "print(transactions_df.head())"
   ]
  },
  {
   "cell_type": "markdown",
   "metadata": {},
   "source": [
    "## 2. Feature Engineering\n",
    "\n",
    "The model combines various features to capture customer behavior:"
   ]
  },
  {
   "cell_type": "markdown",
   "metadata": {},
   "source": [
    "### 2.1 Customer Profile Features\n",
    "- Days on platform (calculated from signup date)\n",
    "- Region (used for context but not in similarity calculation)"
   ]
  },
  {
   "cell_type": "code",
   "execution_count": null,
   "metadata": {},
   "source": [
    "# Convert dates to datetime\n",
    "customers_df['SignupDate'] = pd.to_datetime(customers_df['SignupDate'])\n",
    "transactions_df['TransactionDate'] = pd.to_datetime(transactions_df['TransactionDate'])\n",
    "\n",
    "# Calculate days on platform\n",
    "current_date = pd.Timestamp('2025-01-27')\n",
    "customers_df['DaysOnPlatform'] = (current_date - customers_df['SignupDate']).dt.days"
   ]
  },
  {
   "cell_type": "markdown",
   "metadata": {},
   "source": [
    "### 2.2 Transaction Features\n",
    "- Number of transactions\n",
    "- Total quantity purchased\n",
    "- Total amount spent\n",
    "- Average transaction value\n",
    "- Purchase frequency"
   ]
  },
  {
   "cell_type": "code",
   "execution_count": null,
   "metadata": {},
   "source": [
    "# Aggregate transaction data\n",
    "customer_transactions = transactions_df.groupby('CustomerID').agg({\n",
    "    'TransactionID': 'count',\n",
    "    'Quantity': 'sum',\n",
    "    'TotalValue': 'sum',\n",
    "    'TransactionDate': ['min', 'max']\n",
    "}).reset_index()\n",
    "\n",
    "# Calculate average transaction value and purchase frequency\n",
    "customer_transactions['AvgTransactionValue'] = (\n",
    "    customer_transactions['TotalValue'] / customer_transactions['TransactionID']\n",
    ")\n",
    "\n",
    "customer_transactions['PurchaseFrequencyDays'] = np.where(\n",
    "    customer_transactions['TransactionID'] > 1,\n",
    "    (customer_transactions['TransactionDate']['max'] - \n",
    "     customer_transactions['TransactionDate']['min']).dt.days / \n",
    "    (customer_transactions['TransactionID'] - 1),\n",
    "    0\n",
    ")"
   ]
  },
  {
   "cell_type": "markdown",
   "metadata": {},
   "source": [
    "### 2.3 Category Preferences\n",
    "Calculate spending distribution across product categories"
   ]
  },
  {
   "cell_type": "code",
   "execution_count": null,
   "metadata": {},
   "source": [
    "# Merge transactions with products to get categories\n",
    "trans_with_categories = pd.merge(\n",
    "    transactions_df,\n",
    "    products_df[['ProductID', 'Category']],\n",
    "    on='ProductID'\n",
    ")\n",
    "\n",
    "# Calculate category preferences\n",
    "category_spending = trans_with_categories.pivot_table(\n",
    "    index='CustomerID',\n",
    "    columns='Category',\n",
    "    values='TotalValue',\n",
    "    aggfunc='sum',\n",
    "    fill_value=0\n",
    ")"
   ]
  },
  {
   "cell_type": "markdown",
   "metadata": {},
   "source": [
    "## 3. Similarity Calculation\n",
    "\n",
    "The model uses cosine similarity to find similar customers based on their feature vectors:"
   ]
  },
  {
   "cell_type": "code",
   "execution_count": null,
   "metadata": {},
   "source": [
    "def find_similar_customers(customer_features, customer_id, n_recommendations=3):\n",
    "    \"\"\"Find similar customers using cosine similarity.\"\"\"\n",
    "    # Get customer index\n",
    "    customer_idx = customer_features[\n",
    "        customer_features['CustomerID'] == customer_id\n",
    "    ].index[0]\n",
    "    \n",
    "    # Calculate similarities\n",
    "    similarities = cosine_similarity(\n",
    "        customer_features_scaled[customer_idx].reshape(1, -1),\n",
    "        customer_features_scaled\n",
    "    )[0]\n",
    "    \n",
    "    # Get top similar customers\n",
    "    similar_indices = np.argsort(similarities)[::-1][1:n_recommendations + 1]\n",
    "    \n",
    "    return [(customer_features.iloc[idx]['CustomerID'], similarities[idx])\n",
    "            for idx in similar_indices]"
   ]
  },
  {
   "cell_type": "markdown",
   "metadata": {},
   "source": [
    "## 4. Model Evaluation\n",
    "\n",
    "The model's effectiveness can be evaluated by examining the recommendations:"
   ]
  },
  {
   "cell_type": "code",
   "execution_count": null,
   "metadata": {},
   "source": [
    "# Example: Find similar customers for C0001\n",
    "from lookalike_model import LookalikeModel\n",
    "\n",
    "model = LookalikeModel()\n",
    "model.load_data()\n",
    "model.prepare_features()\n",
    "\n",
    "target_profile, recommendations = model.find_similar_customers('C0001')\n",
    "print(\"Target Customer:\")\n",
    "print(f\"Name: {target_profile['CustomerName']}\")\n",
    "print(f\"Region: {target_profile['Region']}\")\n",
    "print(f\"Total Spent: ${target_profile['TotalSpent']:.2f}\")\n",
    "print(\"\\nTop 3 Similar Customers:\")\n",
    "for rec in recommendations:\n",
    "    print(f\"\\nCustomer: {rec['CustomerName']}\")\n",
    "    print(f\"Similarity Score: {rec['Similarity']:.4f}\")\n",
    "    print(f\"Region: {rec['Region']}\")\n",
    "    print(f\"Total Spent: ${rec['TotalSpent']:.2f}\")"
   ]
  },
  {
   "cell_type": "markdown",
   "metadata": {},
   "source": [
    "## 5. Key Findings\n",
    "\n",
    "1. The model successfully identifies customers with similar:\n",
    "   - Shopping patterns (transaction frequency and value)\n",
    "   - Category preferences\n",
    "   - Overall spending behavior\n",
    "\n",
    "2. Regional patterns emerge in the recommendations, suggesting geographical clustering of customer behavior\n",
    "\n",
    "3. The model balances multiple factors:\n",
    "   - Recent vs. historical behavior\n",
    "   - Category-specific spending\n",
    "   - Transaction patterns\n",
    "\n",
    "4. Recommendations are provided with similarity scores, allowing for confidence-based filtering"
   ]
  }
 ],
 "metadata": {
  "kernelspec": {
   "display_name": "Python 3",
   "language": "python",
   "name": "python3"
  },
  "language_info": {
   "codemirror_mode": {
    "name": "ipython",
    "version": 3
   },
   "file_extension": ".py",
   "mimetype": "text/x-python",
   "name": "python",
   "nbconvert_exporter": "python",
   "pygments_lexer": "ipython3",
   "version": "3.13.0"
  }
 },
 "nbformat": 4,
 "nbformat_minor": 4
}
