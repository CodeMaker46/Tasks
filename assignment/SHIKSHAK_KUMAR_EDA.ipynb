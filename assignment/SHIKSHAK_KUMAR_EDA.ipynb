{
 "cells": [
  {
   "cell_type": "code",
   "execution_count": null,
   "id": "530f0cfa",
   "metadata": {},
   "outputs": [],
   "source": [
    "import pandas as pd\n",
    "import numpy as np\n",
    "import matplotlib.pyplot as plt\n",
    "from datetime import datetime"
   ]
  },
  {
   "cell_type": "code",
   "execution_count": null,
   "id": "83e09e46",
   "metadata": {},
   "outputs": [],
   "source": [
    "plt.style.use('default')\n",
    "plt.rcParams['figure.figsize'] = [10, 6]\n",
    "plt.rcParams['figure.dpi'] = 100"
   ]
  },
  {
   "cell_type": "code",
   "execution_count": null,
   "id": "e5c3f004",
   "metadata": {},
   "outputs": [],
   "source": [
    "customers_df = pd.read_csv('Customers.csv')\n",
    "products_df = pd.read_csv('Products.csv')\n",
    "transactions_df = pd.read_csv('Transactions.csv')"
   ]
  },
  {
   "cell_type": "code",
   "execution_count": null,
   "id": "f096b916",
   "metadata": {},
   "outputs": [],
   "source": [
    "customers_df['SignupDate'] = pd.to_datetime(customers_df['SignupDate'])\n",
    "customers_df['SignupYear'] = customers_df['SignupDate'].dt.year\n",
    "yearly_signups = customers_df['SignupYear'].value_counts().sort_index()"
   ]
  },
  {
   "cell_type": "code",
   "execution_count": null,
   "id": "013dbedb",
   "metadata": {},
   "outputs": [],
   "source": [
    "plt.figure(figsize=(10, 6))\n",
    "yearly_signups.plot(kind='bar')\n",
    "plt.title('Customer Signups by Year')\n",
    "plt.xlabel('Year')\n",
    "plt.ylabel('Number of Signups')\n",
    "plt.tight_layout()\n",
    "plt.show()"
   ]
  },
  {
   "cell_type": "code",
   "execution_count": null,
   "id": "bec4918e",
   "metadata": {},
   "outputs": [],
   "source": [
    "plt.figure(figsize=(10, 6))\n",
    "customers_df['Region'].value_counts().plot(kind='pie', autopct='%1.1f%%')\n",
    "plt.title('Customer Distribution by Region')\n",
    "plt.axis('equal')\n",
    "plt.show()"
   ]
  },
  {
   "cell_type": "code",
   "execution_count": null,
   "id": "e8d50e1f",
   "metadata": {},
   "outputs": [],
   "source": [
    "plt.figure(figsize=(12, 6))\n",
    "products_df.boxplot(column='Price', by='Category')\n",
    "plt.title('Price Distribution by Product Category')\n",
    "plt.xticks(rotation=45)\n",
    "plt.tight_layout()\n",
    "plt.show()"
   ]
  },
  {
   "cell_type": "code",
   "execution_count": null,
   "id": "1dc2544a",
   "metadata": {},
   "outputs": [],
   "source": [
    "category_stats = products_df.groupby('Category')['Price'].agg(['mean', 'min', 'max', 'count']).round(2)"
   ]
  },
  {
   "cell_type": "code",
   "execution_count": null,
   "id": "9306c3ac",
   "metadata": {},
   "outputs": [],
   "source": [
    "transactions_analysis = transactions_df.merge(products_df, on='ProductID').merge(customers_df, on='CustomerID')"
   ]
  },
  {
   "cell_type": "code",
   "execution_count": null,
   "id": "2e40131a",
   "metadata": {},
   "outputs": [],
   "source": [
    "transactions_analysis['TransactionDate'] = pd.to_datetime(transactions_analysis['TransactionDate'])\n",
    "monthly_sales = transactions_analysis.groupby(transactions_analysis['TransactionDate'].dt.to_period('M'))['TotalValue'].sum()"
   ]
  },
  {
   "cell_type": "code",
   "execution_count": null,
   "id": "ddb8e680",
   "metadata": {},
   "outputs": [],
   "source": [
    "plt.figure(figsize=(15, 6))\n",
    "monthly_sales.plot(kind='line', marker='o')\n",
    "plt.title('Monthly Sales Trend')\n",
    "plt.xlabel('Month')\n",
    "plt.ylabel('Total Sales Value')\n",
    "plt.grid(True)\n",
    "plt.tight_layout()\n",
    "plt.show()"
   ]
  },
  {
   "cell_type": "code",
   "execution_count": null,
   "id": "72c93110",
   "metadata": {},
   "outputs": [],
   "source": [
    "category_sales = transactions_analysis.groupby('Category').agg({\n",
    "    'Quantity': 'sum',\n",
    "    'TotalValue': 'sum'\n",
    "}).sort_values('TotalValue', ascending=False)"
   ]
  },
  {
   "cell_type": "code",
   "execution_count": null,
   "id": "6b077497",
   "metadata": {},
   "outputs": [],
   "source": [
    "regional_performance = transactions_analysis.groupby('Region').agg({\n",
    "    'TransactionID': 'count',\n",
    "    'TotalValue': ['sum', 'mean']\n",
    "}).round(2)\n",
    "regional_performance.columns = ['Transaction_Count', 'Total_Sales', 'Average_Transaction_Value']"
   ]
  },
  {
   "cell_type": "code",
   "execution_count": null,
   "id": "20ed2c49",
   "metadata": {},
   "outputs": [],
   "source": [
    "avg_transaction_value = transactions_df['TotalValue'].mean()\n",
    "total_revenue = transactions_df['TotalValue'].sum()\n",
    "total_customers = len(customers_df)\n",
    "total_products = len(products_df)\n",
    "transactions_per_customer = len(transactions_df) / len(customers_df)"
   ]
  },
  {
   "cell_type": "code",
   "execution_count": null,
   "id": "07f75e58",
   "metadata": {},
   "outputs": [],
   "source": [
    "category_analysis = products_df.groupby('Category').agg({\n",
    "    'ProductID': 'count',\n",
    "    'Price': 'mean'\n",
    "}).round(2)"
   ]
  },
  {
   "cell_type": "code",
   "execution_count": null,
   "id": "1e3a2609",
   "metadata": {},
   "outputs": [],
   "source": [
    "recent_customers = customers_df[customers_df['SignupDate'] >= '2024-01-01'].shape[0]"
   ]
  },
  {
   "cell_type": "code",
   "execution_count": null,
   "id": "b32d5c3d",
   "metadata": {},
   "outputs": [],
   "source": [
    "top_products = transactions_analysis.groupby('ProductName').agg({\n",
    "    'Quantity': 'sum',\n",
    "    'TotalValue': 'sum'\n",
    "}).sort_values('TotalValue', ascending=False).head()"
   ]
  }
 ],
 "metadata": {
  "jupytext": {
   "cell_metadata_filter": "-all",
   "main_language": "python",
   "notebook_metadata_filter": "-all"
  }
 },
 "nbformat": 4,
 "nbformat_minor": 5
}
