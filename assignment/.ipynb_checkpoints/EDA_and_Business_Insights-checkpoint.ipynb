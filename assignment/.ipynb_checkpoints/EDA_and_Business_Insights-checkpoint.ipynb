{
 "cells": [
  {
   "cell_type": "markdown",
   "metadata": {},
   "source": [
    "# Exploratory Data Analysis and Business Insights\n",
    "\n",
    "This notebook contains the analysis of customer transactions data to derive business insights."
   ]
  },
  {
   "cell_type": "code",
   "execution_count": null,
   "metadata": {},
   "source": [
    "# Import required libraries\n",
    "import pandas as pd\n",
    "import numpy as np\n",
    "import matplotlib.pyplot as plt\n",
    "import seaborn as sns\n",
    "\n",
    "# Set style for better visualizations\n",
    "plt.style.use('seaborn')\n",
    "sns.set_palette('Set2')"
   ]
  },
  {
   "cell_type": "markdown",
   "metadata": {},
   "source": [
    "## Data Loading"
   ]
  },
  {
   "cell_type": "code",
   "execution_count": null,
   "metadata": {},
   "source": [
    "# Load the datasets\n",
    "customers_df = pd.read_csv('Customers.csv')\n",
    "products_df = pd.read_csv('Products.csv')\n",
    "transactions_df = pd.read_csv('Transactions.csv')\n",
    "\n",
    "# Display basic information about the datasets\n",
    "print(\"\\nCustomers Dataset Info:\")\n",
    "print(customers_df.info())\n",
    "print(\"\\nProducts Dataset Info:\")\n",
    "print(products_df.info())\n",
    "print(\"\\nTransactions Dataset Info:\")\n",
    "print(transactions_df.info())"
   ]
  },
  {
   "cell_type": "markdown",
   "metadata": {},
   "source": [
    "## Data Overview and Basic Statistics"
   ]
  },
  {
   "cell_type": "code",
   "execution_count": null,
   "metadata": {},
   "source": [
    "# Display first few rows of each dataset\n",
    "print(\"\\nCustomers Dataset Preview:\")\n",
    "display(customers_df.head())\n",
    "print(\"\\nProducts Dataset Preview:\")\n",
    "display(products_df.head())\n",
    "print(\"\\nTransactions Dataset Preview:\")\n",
    "display(transactions_df.head())"
   ]
  },
  {
   "cell_type": "code",
   "execution_count": null,
   "metadata": {},
   "source": [
    "# Basic statistics for numerical columns\n",
    "print(\"\\nCustomers Dataset Statistics:\")\n",
    "display(customers_df.describe())\n",
    "print(\"\\nProducts Dataset Statistics:\")\n",
    "display(products_df.describe())\n",
    "print(\"\\nTransactions Dataset Statistics:\")\n",
    "display(transactions_df.describe())"
   ]
  },
  {
   "cell_type": "markdown",
   "metadata": {},
   "source": [
    "## Customer Analysis"
   ]
  },
  {
   "cell_type": "code",
   "execution_count": null,
   "metadata": {},
   "source": [
    "# Analyze customer demographics\n",
    "plt.figure(figsize=(12, 6))\n",
    "customers_df['age_group'].value_counts().plot(kind='bar')\n",
    "plt.title('Distribution of Customers by Age Group')\n",
    "plt.xlabel('Age Group')\n",
    "plt.ylabel('Number of Customers')\n",
    "plt.xticks(rotation=45)\n",
    "plt.show()\n",
    "\n",
    "# Gender distribution\n",
    "plt.figure(figsize=(8, 8))\n",
    "customers_df['gender'].value_counts().plot(kind='pie', autopct='%1.1f%%')\n",
    "plt.title('Customer Gender Distribution')\n",
    "plt.show()"
   ]
  },
  {
   "cell_type": "markdown",
   "metadata": {},
   "source": [
    "## Transaction Analysis"
   ]
  },
  {
   "cell_type": "code",
   "execution_count": null,
   "metadata": {},
   "source": [
    "# Merge transactions with products to get product details\n",
    "transactions_with_products = pd.merge(transactions_df, products_df, on='product_id')\n",
    "\n",
    "# Analyze sales by product category\n",
    "category_sales = transactions_with_products.groupby('category')['quantity'].sum().sort_values(ascending=False)\n",
    "\n",
    "plt.figure(figsize=(12, 6))\n",
    "category_sales.plot(kind='bar')\n",
    "plt.title('Total Sales by Product Category')\n",
    "plt.xlabel('Category')\n",
    "plt.ylabel('Total Quantity Sold')\n",
    "plt.xticks(rotation=45)\n",
    "plt.show()"
   ]
  },
  {
   "cell_type": "code",
   "execution_count": null,
   "metadata": {},
   "source": [
    "# Calculate revenue per transaction\n",
    "transactions_with_products['revenue'] = transactions_with_products['quantity'] * transactions_with_products['price']\n",
    "\n",
    "# Monthly revenue trend\n",
    "transactions_with_products['transaction_date'] = pd.to_datetime(transactions_with_products['transaction_date'])\n",
    "monthly_revenue = transactions_with_products.groupby(transactions_with_products['transaction_date'].dt.to_period('M'))['revenue'].sum()\n",
    "\n",
    "plt.figure(figsize=(15, 6))\n",
    "monthly_revenue.plot(kind='line', marker='o')\n",
    "plt.title('Monthly Revenue Trend')\n",
    "plt.xlabel('Month')\n",
    "plt.ylabel('Revenue')\n",
    "plt.xticks(rotation=45)\n",
    "plt.grid(True)\n",
    "plt.show()"
   ]
  },
  {
   "cell_type": "markdown",
   "metadata": {},
   "source": [
    "## Customer Segmentation and Purchase Behavior"
   ]
  },
  {
   "cell_type": "code",
   "execution_count": null,
   "metadata": {},
   "source": [
    "# Merge all datasets\n",
    "complete_data = pd.merge(transactions_with_products, customers_df, on='customer_id')\n",
    "\n",
    "# Analyze average purchase value by age group\n",
    "avg_purchase_by_age = complete_data.groupby('age_group')['revenue'].mean().sort_values(ascending=False)\n",
    "\n",
    "plt.figure(figsize=(12, 6))\n",
    "avg_purchase_by_age.plot(kind='bar')\n",
    "plt.title('Average Purchase Value by Age Group')\n",
    "plt.xlabel('Age Group')\n",
    "plt.ylabel('Average Purchase Value')\n",
    "plt.xticks(rotation=45)\n",
    "plt.show()"
   ]
  },
  {
   "cell_type": "markdown",
   "metadata": {},
   "source": [
    "## Business Insights\n",
    "\n",
    "Based on the above analysis, here are the key business insights:\n",
    "\n",
    "1. [Will be filled after analyzing the actual data]\n",
    "2. [Will be filled after analyzing the actual data]\n",
    "3. [Will be filled after analyzing the actual data]\n",
    "4. [Will be filled after analyzing the actual data]\n",
    "5. [Will be filled after analyzing the actual data]"
   ]
  }
 ],
 "metadata": {
  "kernelspec": {
   "display_name": "Python 3",
   "language": "python",
   "name": "python3"
  },
  "language_info": {
   "codemirror_mode": {
    "name": "ipython",
    "version": 3
   },
   "file_extension": ".py",
   "mimetype": "text/x-python",
   "name": "python",
   "nbconvert_exporter": "python",
   "pygments_lexer": "ipython3",
   "version": "3.8.0"
  }
 },
 "nbformat": 4,
 "nbformat_minor": 4
}
